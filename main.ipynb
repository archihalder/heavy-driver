{
 "cells": [
  {
   "cell_type": "markdown",
   "id": "706bfddc",
   "metadata": {},
   "source": [
    "## Importing Libraries"
   ]
  },
  {
   "cell_type": "code",
   "execution_count": 1,
   "id": "23d4505b",
   "metadata": {},
   "outputs": [
    {
     "name": "stderr",
     "output_type": "stream",
     "text": [
      "2022-03-18 13:56:30.927624: W tensorflow/stream_executor/platform/default/dso_loader.cc:64] Could not load dynamic library 'libcudart.so.11.0'; dlerror: libcudart.so.11.0: cannot open shared object file: No such file or directory\n",
      "2022-03-18 13:56:30.927662: I tensorflow/stream_executor/cuda/cudart_stub.cc:29] Ignore above cudart dlerror if you do not have a GPU set up on your machine.\n"
     ]
    }
   ],
   "source": [
    "import numpy as np\n",
    "import pandas as pd\n",
    "import matplotlib.pyplot as plt\n",
    "import tensorflow as tf\n",
    "from PIL import Image\n",
    "import os\n",
    "from sklearn.model_selection import train_test_split\n",
    "from tensorflow.keras.utils import to_categorical\n",
    "from tensorflow.keras.models import Sequential\n",
    "from tensorflow.keras.layers import Conv2D, MaxPool2D, Dense, Flatten, Dropout"
   ]
  },
  {
   "cell_type": "markdown",
   "id": "2e6111b6",
   "metadata": {},
   "source": [
    "## Creating labels"
   ]
  },
  {
   "cell_type": "code",
   "execution_count": 2,
   "id": "49d5acfd",
   "metadata": {},
   "outputs": [],
   "source": [
    "data = []\n",
    "labels = [] \n",
    "classes = 43\n",
    "curr_path = os.getcwd()\n",
    "\n",
    "for i in range(classes):\n",
    "    path = os.path.join(curr_path, 'data/train', str(i))\n",
    "    images = os.listdir(path)\n",
    "    \n",
    "    for a in images:\n",
    "        try:\n",
    "            image = Image.open(path + '/' + a)\n",
    "            image = image.resize((30,30))\n",
    "            image = np.array(image)\n",
    "            \n",
    "            data.append(image)\n",
    "            labels.append(i)\n",
    "        except:\n",
    "            print(\"Error\")\n",
    "\n",
    "data = np.array(data)\n",
    "labels = np.array(labels)"
   ]
  },
  {
   "cell_type": "code",
   "execution_count": 3,
   "id": "b073c64a",
   "metadata": {},
   "outputs": [
    {
     "data": {
      "text/plain": [
       "(39209, 30, 30, 3)"
      ]
     },
     "execution_count": 3,
     "metadata": {},
     "output_type": "execute_result"
    }
   ],
   "source": [
    "data.shape"
   ]
  },
  {
   "cell_type": "code",
   "execution_count": 4,
   "id": "22430ce4",
   "metadata": {},
   "outputs": [
    {
     "data": {
      "text/plain": [
       "(39209,)"
      ]
     },
     "execution_count": 4,
     "metadata": {},
     "output_type": "execute_result"
    }
   ],
   "source": [
    "labels.shape"
   ]
  },
  {
   "cell_type": "markdown",
   "id": "7e01efdc",
   "metadata": {},
   "source": [
    "## Splitting the dataset"
   ]
  },
  {
   "cell_type": "code",
   "execution_count": 5,
   "id": "30ff5990",
   "metadata": {},
   "outputs": [
    {
     "name": "stdout",
     "output_type": "stream",
     "text": [
      "(31367, 30, 30, 3) (7842, 30, 30, 3)\n",
      "(31367,) (7842,)\n"
     ]
    }
   ],
   "source": [
    "X_train, X_test, y_train, y_test = train_test_split(data, labels, test_size=0.2, random_state=42)\n",
    "\n",
    "print(X_train.shape, X_test.shape)\n",
    "print(y_train.shape, y_test.shape)"
   ]
  },
  {
   "cell_type": "code",
   "execution_count": 6,
   "id": "78b706d8",
   "metadata": {},
   "outputs": [],
   "source": [
    "y_train = to_categorical(y_train, 43)\n",
    "y_test = to_categorical(y_test, 43)"
   ]
  },
  {
   "cell_type": "markdown",
   "id": "cf05d2df",
   "metadata": {},
   "source": [
    "## Building the model"
   ]
  },
  {
   "cell_type": "code",
   "execution_count": 7,
   "id": "5c058413",
   "metadata": {},
   "outputs": [
    {
     "name": "stderr",
     "output_type": "stream",
     "text": [
      "2022-03-18 13:56:58.834688: E tensorflow/stream_executor/cuda/cuda_driver.cc:271] failed call to cuInit: CUDA_ERROR_NO_DEVICE: no CUDA-capable device is detected\n",
      "2022-03-18 13:56:58.834753: I tensorflow/stream_executor/cuda/cuda_diagnostics.cc:156] kernel driver does not appear to be running on this host (archi-halder): /proc/driver/nvidia/version does not exist\n",
      "2022-03-18 13:56:58.836090: I tensorflow/core/platform/cpu_feature_guard.cc:151] This TensorFlow binary is optimized with oneAPI Deep Neural Network Library (oneDNN) to use the following CPU instructions in performance-critical operations:  AVX2 FMA\n",
      "To enable them in other operations, rebuild TensorFlow with the appropriate compiler flags.\n"
     ]
    }
   ],
   "source": [
    "model = Sequential()\n",
    "\n",
    "model.add(Conv2D(filters=32, kernel_size=(5,5), activation='relu', input_shape=X_train.shape[1:]))\n",
    "model.add(Conv2D(filters=32, kernel_size=(5,5), activation='relu'))\n",
    "model.add(MaxPool2D(pool_size=(2,2)))\n",
    "model.add(Dropout(rate=0.25))\n",
    "\n",
    "model.add(Conv2D(filters=64, kernel_size=(3,3), activation='relu'))\n",
    "model.add(Conv2D(filters=64, kernel_size=(3,3), activation='relu'))\n",
    "model.add(MaxPool2D(pool_size=(2,2)))\n",
    "model.add(Dropout(rate=0.25))\n",
    "\n",
    "model.add(Flatten())\n",
    "model.add(Dense(256, activation='relu'))\n",
    "model.add(Dropout(rate=0.5))\n",
    "model.add(Dense(43, activation='softmax'))\n",
    "\n",
    "# compiling\n",
    "model.compile(loss='categorical_crossentropy', optimizer='adam', metrics=['accuracy'])"
   ]
  },
  {
   "cell_type": "code",
   "execution_count": 8,
   "id": "e27dc17a",
   "metadata": {},
   "outputs": [
    {
     "name": "stdout",
     "output_type": "stream",
     "text": [
      "Model: \"sequential\"\n",
      "_________________________________________________________________\n",
      " Layer (type)                Output Shape              Param #   \n",
      "=================================================================\n",
      " conv2d (Conv2D)             (None, 26, 26, 32)        2432      \n",
      "                                                                 \n",
      " conv2d_1 (Conv2D)           (None, 22, 22, 32)        25632     \n",
      "                                                                 \n",
      " max_pooling2d (MaxPooling2D  (None, 11, 11, 32)       0         \n",
      " )                                                               \n",
      "                                                                 \n",
      " dropout (Dropout)           (None, 11, 11, 32)        0         \n",
      "                                                                 \n",
      " conv2d_2 (Conv2D)           (None, 9, 9, 64)          18496     \n",
      "                                                                 \n",
      " conv2d_3 (Conv2D)           (None, 7, 7, 64)          36928     \n",
      "                                                                 \n",
      " max_pooling2d_1 (MaxPooling  (None, 3, 3, 64)         0         \n",
      " 2D)                                                             \n",
      "                                                                 \n",
      " dropout_1 (Dropout)         (None, 3, 3, 64)          0         \n",
      "                                                                 \n",
      " flatten (Flatten)           (None, 576)               0         \n",
      "                                                                 \n",
      " dense (Dense)               (None, 256)               147712    \n",
      "                                                                 \n",
      " dropout_2 (Dropout)         (None, 256)               0         \n",
      "                                                                 \n",
      " dense_1 (Dense)             (None, 43)                11051     \n",
      "                                                                 \n",
      "=================================================================\n",
      "Total params: 242,251\n",
      "Trainable params: 242,251\n",
      "Non-trainable params: 0\n",
      "_________________________________________________________________\n"
     ]
    }
   ],
   "source": [
    "model.summary()"
   ]
  },
  {
   "cell_type": "markdown",
   "id": "b0a9033a",
   "metadata": {},
   "source": [
    "## Training and Validating the model"
   ]
  },
  {
   "cell_type": "code",
   "execution_count": 8,
   "id": "e4035340",
   "metadata": {},
   "outputs": [
    {
     "name": "stdout",
     "output_type": "stream",
     "text": [
      "Epoch 1/20\n",
      "491/491 [==============================] - 40s 81ms/step - loss: 1.8170 - accuracy: 0.5510 - val_loss: 0.3574 - val_accuracy: 0.9188\n",
      "Epoch 2/20\n",
      "491/491 [==============================] - 42s 86ms/step - loss: 0.5010 - accuracy: 0.8611 - val_loss: 0.1479 - val_accuracy: 0.9612\n",
      "Epoch 3/20\n",
      "491/491 [==============================] - 42s 86ms/step - loss: 0.2976 - accuracy: 0.9184 - val_loss: 0.0872 - val_accuracy: 0.9795\n",
      "Epoch 4/20\n",
      "491/491 [==============================] - 44s 89ms/step - loss: 0.2536 - accuracy: 0.9309 - val_loss: 0.0554 - val_accuracy: 0.9858\n",
      "Epoch 5/20\n",
      "491/491 [==============================] - 44s 89ms/step - loss: 0.1790 - accuracy: 0.9496 - val_loss: 0.0546 - val_accuracy: 0.9853\n",
      "Epoch 6/20\n",
      "491/491 [==============================] - 44s 90ms/step - loss: 0.1728 - accuracy: 0.9516 - val_loss: 0.0534 - val_accuracy: 0.9855\n",
      "Epoch 7/20\n",
      "491/491 [==============================] - 47s 96ms/step - loss: 0.1573 - accuracy: 0.9569 - val_loss: 0.0437 - val_accuracy: 0.9888\n",
      "Epoch 8/20\n",
      "491/491 [==============================] - 46s 93ms/step - loss: 0.1789 - accuracy: 0.9512 - val_loss: 0.0328 - val_accuracy: 0.9913\n",
      "Epoch 9/20\n",
      "491/491 [==============================] - 46s 93ms/step - loss: 0.1391 - accuracy: 0.9628 - val_loss: 0.0341 - val_accuracy: 0.9917\n",
      "Epoch 10/20\n",
      "491/491 [==============================] - 46s 93ms/step - loss: 0.1206 - accuracy: 0.9675 - val_loss: 0.0328 - val_accuracy: 0.9908\n",
      "Epoch 11/20\n",
      "491/491 [==============================] - 45s 91ms/step - loss: 0.1510 - accuracy: 0.9618 - val_loss: 0.0317 - val_accuracy: 0.9916\n",
      "Epoch 12/20\n",
      "491/491 [==============================] - 44s 90ms/step - loss: 0.1258 - accuracy: 0.9656 - val_loss: 0.0447 - val_accuracy: 0.9884\n",
      "Epoch 13/20\n",
      "491/491 [==============================] - 46s 94ms/step - loss: 0.1381 - accuracy: 0.9643 - val_loss: 0.0428 - val_accuracy: 0.9889\n",
      "Epoch 14/20\n",
      "491/491 [==============================] - 43s 88ms/step - loss: 0.1142 - accuracy: 0.9698 - val_loss: 0.0404 - val_accuracy: 0.9892\n",
      "Epoch 15/20\n",
      "491/491 [==============================] - 46s 93ms/step - loss: 0.1208 - accuracy: 0.9694 - val_loss: 0.0415 - val_accuracy: 0.9892\n",
      "Epoch 16/20\n",
      "491/491 [==============================] - 55s 111ms/step - loss: 0.1356 - accuracy: 0.9663 - val_loss: 0.0368 - val_accuracy: 0.9903\n",
      "Epoch 17/20\n",
      "491/491 [==============================] - 57s 116ms/step - loss: 0.1056 - accuracy: 0.9731 - val_loss: 0.0337 - val_accuracy: 0.9916\n",
      "Epoch 18/20\n",
      "491/491 [==============================] - 72s 146ms/step - loss: 0.1331 - accuracy: 0.9673 - val_loss: 0.0282 - val_accuracy: 0.9936\n",
      "Epoch 19/20\n",
      "491/491 [==============================] - 78s 158ms/step - loss: 0.1178 - accuracy: 0.9706 - val_loss: 0.0317 - val_accuracy: 0.9922\n",
      "Epoch 20/20\n",
      "491/491 [==============================] - 70s 143ms/step - loss: 0.1278 - accuracy: 0.9711 - val_loss: 0.0310 - val_accuracy: 0.9932\n"
     ]
    }
   ],
   "source": [
    "epochs = 20\n",
    "history = model.fit(X_train, y_train, batch_size=64,\n",
    "                    epochs=epochs, validation_data=(X_test, y_test))"
   ]
  },
  {
   "cell_type": "markdown",
   "id": "d4ce400a",
   "metadata": {},
   "source": [
    "## Saving the trained model"
   ]
  },
  {
   "cell_type": "code",
   "execution_count": 9,
   "id": "1b721495",
   "metadata": {},
   "outputs": [],
   "source": [
    "model.save('heavy_model.h5')"
   ]
  },
  {
   "cell_type": "markdown",
   "id": "1f9dc45c",
   "metadata": {},
   "source": [
    "## Loading the model"
   ]
  },
  {
   "cell_type": "code",
   "execution_count": 9,
   "id": "c7869c47",
   "metadata": {},
   "outputs": [],
   "source": [
    "from tensorflow.keras.models import load_model\n",
    "\n",
    "saved_model = load_model('heavy_model.h5')"
   ]
  },
  {
   "cell_type": "markdown",
   "id": "b25a8c4a",
   "metadata": {},
   "source": [
    "## Plotting the accuracy curve "
   ]
  },
  {
   "cell_type": "code",
   "execution_count": 10,
   "id": "ed41692f",
   "metadata": {},
   "outputs": [
    {
     "ename": "NameError",
     "evalue": "name 'history' is not defined",
     "output_type": "error",
     "traceback": [
      "\u001b[0;31m---------------------------------------------------------------------------\u001b[0m",
      "\u001b[0;31mNameError\u001b[0m                                 Traceback (most recent call last)",
      "Input \u001b[0;32mIn [10]\u001b[0m, in \u001b[0;36m<cell line: 2>\u001b[0;34m()\u001b[0m\n\u001b[1;32m      1\u001b[0m plt\u001b[38;5;241m.\u001b[39mfigure(\u001b[38;5;241m0\u001b[39m)\n\u001b[0;32m----> 2\u001b[0m plt\u001b[38;5;241m.\u001b[39mplot(\u001b[43mhistory\u001b[49m\u001b[38;5;241m.\u001b[39mhistory[\u001b[38;5;124m'\u001b[39m\u001b[38;5;124maccuracy\u001b[39m\u001b[38;5;124m'\u001b[39m], label\u001b[38;5;241m=\u001b[39m\u001b[38;5;124m'\u001b[39m\u001b[38;5;124mtraining accuracy\u001b[39m\u001b[38;5;124m'\u001b[39m)\n\u001b[1;32m      3\u001b[0m plt\u001b[38;5;241m.\u001b[39mplot(history\u001b[38;5;241m.\u001b[39mhistory[\u001b[38;5;124m'\u001b[39m\u001b[38;5;124mval_accuracy\u001b[39m\u001b[38;5;124m'\u001b[39m], label\u001b[38;5;241m=\u001b[39m\u001b[38;5;124m'\u001b[39m\u001b[38;5;124mval accuracy\u001b[39m\u001b[38;5;124m'\u001b[39m)\n\u001b[1;32m      4\u001b[0m plt\u001b[38;5;241m.\u001b[39mtitle(\u001b[38;5;124m'\u001b[39m\u001b[38;5;124mAccuracy\u001b[39m\u001b[38;5;124m'\u001b[39m)\n",
      "\u001b[0;31mNameError\u001b[0m: name 'history' is not defined"
     ]
    },
    {
     "data": {
      "text/plain": [
       "<Figure size 432x288 with 0 Axes>"
      ]
     },
     "metadata": {},
     "output_type": "display_data"
    }
   ],
   "source": [
    "plt.figure(0)\n",
    "plt.plot(history.history['accuracy'], label='training accuracy')\n",
    "plt.plot(history.history['val_accuracy'], label='val accuracy')\n",
    "plt.title('Accuracy')\n",
    "plt.xlabel('epochs')\n",
    "plt.ylabel('accuracy')\n",
    "plt.legend()\n",
    "\n",
    "plt.figure(1)\n",
    "plt.plot(history.history['loss'], label='training loss')\n",
    "plt.plot(history.history['val_loss'], label='val loss')\n",
    "plt.title('Loss')\n",
    "plt.xlabel('epochs')\n",
    "plt.ylabel('loss')\n",
    "plt.legend()\n",
    "\n",
    "plt.show()"
   ]
  },
  {
   "cell_type": "markdown",
   "id": "5babd328",
   "metadata": {},
   "source": [
    "## Testing"
   ]
  },
  {
   "cell_type": "code",
   "execution_count": 11,
   "id": "d3356b94",
   "metadata": {},
   "outputs": [],
   "source": [
    "import pandas as pd\n",
    "\n",
    "y_test = pd.read_csv('data/Test.csv')\n",
    "\n",
    "labels = y_test['ClassId'].values\n",
    "imgs = y_test['Path'].values\n",
    "\n",
    "data = []\n",
    "\n",
    "for i in imgs:\n",
    "    image = Image.open('data/' + i)\n",
    "    image = image.resize((30,30))\n",
    "    data.append(np.array(image))\n",
    "\n",
    "X_test = np.array(data)\n",
    "\n",
    "pred = model.predict(X_test)"
   ]
  },
  {
   "cell_type": "markdown",
   "id": "87e8eb98",
   "metadata": {},
   "source": [
    "## Accuracy Score"
   ]
  },
  {
   "cell_type": "code",
   "execution_count": 30,
   "id": "bcbaeae1",
   "metadata": {},
   "outputs": [
    {
     "data": {
      "text/plain": [
       "(12630, 43)"
      ]
     },
     "execution_count": 30,
     "metadata": {},
     "output_type": "execute_result"
    }
   ],
   "source": [
    "pred.shape"
   ]
  },
  {
   "cell_type": "code",
   "execution_count": 31,
   "id": "82541240",
   "metadata": {},
   "outputs": [
    {
     "data": {
      "text/plain": [
       "(12630,)"
      ]
     },
     "execution_count": 31,
     "metadata": {},
     "output_type": "execute_result"
    }
   ],
   "source": [
    "labels.shape"
   ]
  },
  {
   "cell_type": "code",
   "execution_count": null,
   "id": "c3f0da47",
   "metadata": {},
   "outputs": [],
   "source": []
  }
 ],
 "metadata": {
  "kernelspec": {
   "display_name": "Python 3 (ipykernel)",
   "language": "python",
   "name": "python3"
  },
  "language_info": {
   "codemirror_mode": {
    "name": "ipython",
    "version": 3
   },
   "file_extension": ".py",
   "mimetype": "text/x-python",
   "name": "python",
   "nbconvert_exporter": "python",
   "pygments_lexer": "ipython3",
   "version": "3.9.7"
  }
 },
 "nbformat": 4,
 "nbformat_minor": 5
}
